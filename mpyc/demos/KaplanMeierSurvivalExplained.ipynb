{
 "cells": [
  {
   "cell_type": "markdown",
   "metadata": {},
   "source": [
    "# Secure Kaplan-Meier Survival Analysis Explained\n",
    "\n",
    "The MPyC demo [kmsurival.py](kmsurvival.py) implements privacy-preserving Kaplan-Meier [survival analysis](https://en.wikipedia.org/wiki/Survival_analysis), based on earlier work by Meilof Veeningen. The demo is built using the Python package [lifelines](https://pypi.org/project/lifelines/), which provides extensive support for survival\n",
    "analysis and includes several datasets. We use lifelines for plotting Kaplan-Meier survival curves, performing logrank tests to compare survival curves, and printing survival tables."
   ]
  },
  {
   "cell_type": "code",
   "execution_count": 1,
   "metadata": {
    "scrolled": false
   },
   "outputs": [],
   "source": [
    "# use pip (or, conda) to make sure lifelines package is installed:\n",
    "!pip -q install lifelines  "
   ]
  },
  {
   "cell_type": "code",
   "execution_count": 2,
   "metadata": {
    "scrolled": false
   },
   "outputs": [],
   "source": [
    "import os, functools\n",
    "import pandas as pd\n",
    "import matplotlib.pyplot as plt\n",
    "import lifelines.statistics\n",
    "from mpyc.runtime import mpc\n",
    "mpc.logging(False)\n",
    "from kmsurvival import fit_plot, events_to_table, events_from_table, logrank_test, aggregate, agg_logrank_test"
   ]
  },
  {
   "cell_type": "markdown",
   "metadata": {},
   "source": [
    "Actual use of the lifelines package is hidden mostly inside the [kmsurival.py](kmsurvival.py) demo, except for the function `lifelines.statistics.logrank_test()` used below to validate the results of the secure computations.\n",
    "\n",
    "## Kaplan-Meier Analysis\n",
    "\n",
    "We analyze the aml (\"acute myelogenous leukemia\") dataset, which is also used as a [small example on Wikipedia](https://en.wikipedia.org/wiki/Survival_analysis#Example:_Acute_myelogenous_leukemia_survival_data). The file `aml.csv` (copied from the R package `KMsurv`) contains the raw data for 23 patients. Status 1 stands for the event \"recurrence of aml cancer\" and status 0 means no event (\"censored\")."
   ]
  },
  {
   "cell_type": "code",
   "execution_count": 3,
   "metadata": {
    "scrolled": false
   },
   "outputs": [
    {
     "data": {
      "text/html": [
       "<style type=\"text/css\">\n",
       "</style>\n",
       "<table id=\"T_8a107\">\n",
       "  <thead>\n",
       "    <tr>\n",
       "      <th id=\"T_8a107_level0_col0\" class=\"col_heading level0 col0\" >observation</th>\n",
       "      <th id=\"T_8a107_level0_col1\" class=\"col_heading level0 col1\" >time</th>\n",
       "      <th id=\"T_8a107_level0_col2\" class=\"col_heading level0 col2\" >status</th>\n",
       "      <th id=\"T_8a107_level0_col3\" class=\"col_heading level0 col3\" >group</th>\n",
       "    </tr>\n",
       "  </thead>\n",
       "  <tbody>\n",
       "    <tr>\n",
       "      <td id=\"T_8a107_row0_col0\" class=\"data row0 col0\" >12</td>\n",
       "      <td id=\"T_8a107_row0_col1\" class=\"data row0 col1\" >5</td>\n",
       "      <td id=\"T_8a107_row0_col2\" class=\"data row0 col2\" >1</td>\n",
       "      <td id=\"T_8a107_row0_col3\" class=\"data row0 col3\" >2</td>\n",
       "    </tr>\n",
       "    <tr>\n",
       "      <td id=\"T_8a107_row1_col0\" class=\"data row1 col0\" >13</td>\n",
       "      <td id=\"T_8a107_row1_col1\" class=\"data row1 col1\" >5</td>\n",
       "      <td id=\"T_8a107_row1_col2\" class=\"data row1 col2\" >1</td>\n",
       "      <td id=\"T_8a107_row1_col3\" class=\"data row1 col3\" >2</td>\n",
       "    </tr>\n",
       "    <tr>\n",
       "      <td id=\"T_8a107_row2_col0\" class=\"data row2 col0\" >14</td>\n",
       "      <td id=\"T_8a107_row2_col1\" class=\"data row2 col1\" >8</td>\n",
       "      <td id=\"T_8a107_row2_col2\" class=\"data row2 col2\" >1</td>\n",
       "      <td id=\"T_8a107_row2_col3\" class=\"data row2 col3\" >2</td>\n",
       "    </tr>\n",
       "    <tr>\n",
       "      <td id=\"T_8a107_row3_col0\" class=\"data row3 col0\" >15</td>\n",
       "      <td id=\"T_8a107_row3_col1\" class=\"data row3 col1\" >8</td>\n",
       "      <td id=\"T_8a107_row3_col2\" class=\"data row3 col2\" >1</td>\n",
       "      <td id=\"T_8a107_row3_col3\" class=\"data row3 col3\" >2</td>\n",
       "    </tr>\n",
       "    <tr>\n",
       "      <td id=\"T_8a107_row4_col0\" class=\"data row4 col0\" >1</td>\n",
       "      <td id=\"T_8a107_row4_col1\" class=\"data row4 col1\" >9</td>\n",
       "      <td id=\"T_8a107_row4_col2\" class=\"data row4 col2\" >1</td>\n",
       "      <td id=\"T_8a107_row4_col3\" class=\"data row4 col3\" >1</td>\n",
       "    </tr>\n",
       "    <tr>\n",
       "      <td id=\"T_8a107_row5_col0\" class=\"data row5 col0\" >16</td>\n",
       "      <td id=\"T_8a107_row5_col1\" class=\"data row5 col1\" >12</td>\n",
       "      <td id=\"T_8a107_row5_col2\" class=\"data row5 col2\" >1</td>\n",
       "      <td id=\"T_8a107_row5_col3\" class=\"data row5 col3\" >2</td>\n",
       "    </tr>\n",
       "    <tr>\n",
       "      <td id=\"T_8a107_row6_col0\" class=\"data row6 col0\" >2</td>\n",
       "      <td id=\"T_8a107_row6_col1\" class=\"data row6 col1\" >13</td>\n",
       "      <td id=\"T_8a107_row6_col2\" class=\"data row6 col2\" >1</td>\n",
       "      <td id=\"T_8a107_row6_col3\" class=\"data row6 col3\" >1</td>\n",
       "    </tr>\n",
       "    <tr>\n",
       "      <td id=\"T_8a107_row7_col0\" class=\"data row7 col0\" >3</td>\n",
       "      <td id=\"T_8a107_row7_col1\" class=\"data row7 col1\" >13</td>\n",
       "      <td id=\"T_8a107_row7_col2\" class=\"data row7 col2\" >0</td>\n",
       "      <td id=\"T_8a107_row7_col3\" class=\"data row7 col3\" >1</td>\n",
       "    </tr>\n",
       "    <tr>\n",
       "      <td id=\"T_8a107_row8_col0\" class=\"data row8 col0\" >17</td>\n",
       "      <td id=\"T_8a107_row8_col1\" class=\"data row8 col1\" >16</td>\n",
       "      <td id=\"T_8a107_row8_col2\" class=\"data row8 col2\" >0</td>\n",
       "      <td id=\"T_8a107_row8_col3\" class=\"data row8 col3\" >2</td>\n",
       "    </tr>\n",
       "    <tr>\n",
       "      <td id=\"T_8a107_row9_col0\" class=\"data row9 col0\" >4</td>\n",
       "      <td id=\"T_8a107_row9_col1\" class=\"data row9 col1\" >18</td>\n",
       "      <td id=\"T_8a107_row9_col2\" class=\"data row9 col2\" >1</td>\n",
       "      <td id=\"T_8a107_row9_col3\" class=\"data row9 col3\" >1</td>\n",
       "    </tr>\n",
       "    <tr>\n",
       "      <td id=\"T_8a107_row10_col0\" class=\"data row10 col0\" >5</td>\n",
       "      <td id=\"T_8a107_row10_col1\" class=\"data row10 col1\" >23</td>\n",
       "      <td id=\"T_8a107_row10_col2\" class=\"data row10 col2\" >1</td>\n",
       "      <td id=\"T_8a107_row10_col3\" class=\"data row10 col3\" >1</td>\n",
       "    </tr>\n",
       "    <tr>\n",
       "      <td id=\"T_8a107_row11_col0\" class=\"data row11 col0\" >18</td>\n",
       "      <td id=\"T_8a107_row11_col1\" class=\"data row11 col1\" >23</td>\n",
       "      <td id=\"T_8a107_row11_col2\" class=\"data row11 col2\" >1</td>\n",
       "      <td id=\"T_8a107_row11_col3\" class=\"data row11 col3\" >2</td>\n",
       "    </tr>\n",
       "    <tr>\n",
       "      <td id=\"T_8a107_row12_col0\" class=\"data row12 col0\" >19</td>\n",
       "      <td id=\"T_8a107_row12_col1\" class=\"data row12 col1\" >27</td>\n",
       "      <td id=\"T_8a107_row12_col2\" class=\"data row12 col2\" >1</td>\n",
       "      <td id=\"T_8a107_row12_col3\" class=\"data row12 col3\" >2</td>\n",
       "    </tr>\n",
       "    <tr>\n",
       "      <td id=\"T_8a107_row13_col0\" class=\"data row13 col0\" >6</td>\n",
       "      <td id=\"T_8a107_row13_col1\" class=\"data row13 col1\" >28</td>\n",
       "      <td id=\"T_8a107_row13_col2\" class=\"data row13 col2\" >0</td>\n",
       "      <td id=\"T_8a107_row13_col3\" class=\"data row13 col3\" >1</td>\n",
       "    </tr>\n",
       "    <tr>\n",
       "      <td id=\"T_8a107_row14_col0\" class=\"data row14 col0\" >20</td>\n",
       "      <td id=\"T_8a107_row14_col1\" class=\"data row14 col1\" >30</td>\n",
       "      <td id=\"T_8a107_row14_col2\" class=\"data row14 col2\" >1</td>\n",
       "      <td id=\"T_8a107_row14_col3\" class=\"data row14 col3\" >2</td>\n",
       "    </tr>\n",
       "    <tr>\n",
       "      <td id=\"T_8a107_row15_col0\" class=\"data row15 col0\" >7</td>\n",
       "      <td id=\"T_8a107_row15_col1\" class=\"data row15 col1\" >31</td>\n",
       "      <td id=\"T_8a107_row15_col2\" class=\"data row15 col2\" >1</td>\n",
       "      <td id=\"T_8a107_row15_col3\" class=\"data row15 col3\" >1</td>\n",
       "    </tr>\n",
       "    <tr>\n",
       "      <td id=\"T_8a107_row16_col0\" class=\"data row16 col0\" >21</td>\n",
       "      <td id=\"T_8a107_row16_col1\" class=\"data row16 col1\" >33</td>\n",
       "      <td id=\"T_8a107_row16_col2\" class=\"data row16 col2\" >1</td>\n",
       "      <td id=\"T_8a107_row16_col3\" class=\"data row16 col3\" >2</td>\n",
       "    </tr>\n",
       "    <tr>\n",
       "      <td id=\"T_8a107_row17_col0\" class=\"data row17 col0\" >8</td>\n",
       "      <td id=\"T_8a107_row17_col1\" class=\"data row17 col1\" >34</td>\n",
       "      <td id=\"T_8a107_row17_col2\" class=\"data row17 col2\" >1</td>\n",
       "      <td id=\"T_8a107_row17_col3\" class=\"data row17 col3\" >1</td>\n",
       "    </tr>\n",
       "    <tr>\n",
       "      <td id=\"T_8a107_row18_col0\" class=\"data row18 col0\" >22</td>\n",
       "      <td id=\"T_8a107_row18_col1\" class=\"data row18 col1\" >43</td>\n",
       "      <td id=\"T_8a107_row18_col2\" class=\"data row18 col2\" >1</td>\n",
       "      <td id=\"T_8a107_row18_col3\" class=\"data row18 col3\" >2</td>\n",
       "    </tr>\n",
       "    <tr>\n",
       "      <td id=\"T_8a107_row19_col0\" class=\"data row19 col0\" >9</td>\n",
       "      <td id=\"T_8a107_row19_col1\" class=\"data row19 col1\" >45</td>\n",
       "      <td id=\"T_8a107_row19_col2\" class=\"data row19 col2\" >0</td>\n",
       "      <td id=\"T_8a107_row19_col3\" class=\"data row19 col3\" >1</td>\n",
       "    </tr>\n",
       "    <tr>\n",
       "      <td id=\"T_8a107_row20_col0\" class=\"data row20 col0\" >23</td>\n",
       "      <td id=\"T_8a107_row20_col1\" class=\"data row20 col1\" >45</td>\n",
       "      <td id=\"T_8a107_row20_col2\" class=\"data row20 col2\" >1</td>\n",
       "      <td id=\"T_8a107_row20_col3\" class=\"data row20 col3\" >2</td>\n",
       "    </tr>\n",
       "    <tr>\n",
       "      <td id=\"T_8a107_row21_col0\" class=\"data row21 col0\" >10</td>\n",
       "      <td id=\"T_8a107_row21_col1\" class=\"data row21 col1\" >48</td>\n",
       "      <td id=\"T_8a107_row21_col2\" class=\"data row21 col2\" >1</td>\n",
       "      <td id=\"T_8a107_row21_col3\" class=\"data row21 col3\" >1</td>\n",
       "    </tr>\n",
       "    <tr>\n",
       "      <td id=\"T_8a107_row22_col0\" class=\"data row22 col0\" >11</td>\n",
       "      <td id=\"T_8a107_row22_col1\" class=\"data row22 col1\" >161</td>\n",
       "      <td id=\"T_8a107_row22_col2\" class=\"data row22 col2\" >0</td>\n",
       "      <td id=\"T_8a107_row22_col3\" class=\"data row22 col3\" >1</td>\n",
       "    </tr>\n",
       "  </tbody>\n",
       "</table>\n"
      ],
      "text/plain": [
       "<pandas.io.formats.style.Styler at 0x16a7f342d00>"
      ]
     },
     "execution_count": 3,
     "metadata": {},
     "output_type": "execute_result"
    }
   ],
   "source": [
    "df = pd.read_csv(os.path.join('data', 'surv', 'aml.csv')).rename(columns={'Unnamed: 0': 'observation', 'cens': 'status'})\n",
    "df.sort_values(['time', 'observation']).style.hide(axis='index')"
   ]
  },
  {
   "cell_type": "markdown",
   "metadata": {},
   "source": [
    "Time is in weeks. The study compares the time until recurrence among two groups of patients. Patients in group 1 received maintenance chemotherapy, while patients in group 2 did not get any maintenance treatment. To plot the [Kaplan–Meier survival curve](https://en.wikipedia.org/wiki/Kaplan–Meier_estimator) for groups 1 and 2, we use the function `fit_plot()` as follows."
   ]
  },
  {
   "cell_type": "code",
   "execution_count": 4,
   "metadata": {
    "scrolled": false
   },
   "outputs": [
    {
     "data": {
      "image/png": "[encoded data removed]",
      "text/plain": [
       "<Figure size 640x480 with 2 Axes>"
      ]
     },
     "metadata": {},
     "output_type": "display_data"
    }
   ],
   "source": [
    "T1, T2 = df['time']  [df['group'] == 1], df['time']  [df['group'] == 2]\n",
    "E1, E2 = df['status'][df['group'] == 1], df['status'][df['group'] == 2]\n",
    "kmf1, kmf2 = fit_plot(T1, T2, E1, E2, 'Kaplan-Meier survival curves', 'weeks', '1=Maintained', '2=Not maintained')\n",
    "plt.show()"
   ]
  },
  {
   "cell_type": "markdown",
   "metadata": {},
   "source": [
    "The vertical ticks on the graphs indicate censored events. At the bottom, the number of patients \"at risk\" is shown. The study concerned 11 patients in group 1 with one patient censored after 161 weeks and 12 patients in group 2. A Kaplan-Meier curve estimates the survival probability as a function of time (duration). \n",
    "\n",
    "In this example, the two curves do not appear to differ very much. To analyze this more precisely one performs a [logrank test](https://en.wikipedia.org/wiki/Logrank_test):"
   ]
  },
  {
   "cell_type": "code",
   "execution_count": 5,
   "metadata": {
    "scrolled": false
   },
   "outputs": [
    {
     "data": {
      "text/plain": [
       "0.06533932204050484"
      ]
     },
     "execution_count": 5,
     "metadata": {},
     "output_type": "execute_result"
    }
   ],
   "source": [
    "lifelines.statistics.logrank_test(T1, T2, E1, E2).p_value"
   ]
  },
  {
   "cell_type": "markdown",
   "metadata": {},
   "source": [
    "The null hypothesis is that survival is the same for both groups. Since $p=0.065$ is not particularly small (e.g., not below $\\alpha=0.05$), the null hypothesis is not strongly rejected. In other words, the logrank test also says that the curves do not differ significantly---with the usual caveat of small sample sizes."
   ]
  },
  {
   "cell_type": "markdown",
   "metadata": {},
   "source": [
    "## Privacy-Preserving Survival Analysis"
   ]
  },
  {
   "cell_type": "markdown",
   "metadata": {},
   "source": [
    "In a multiparty setting, each party holds a private dataset and the goal is to perform a survival analysis on the *union* of all the datasets. To obtain the secure union of the datasets in an efficient way, each private dataset will be represented using two survival tables, one survival table per group of patients. \n",
    "\n",
    "The survival tables for the aml dataset are available from the Kaplan-Meier fitters `kmf1` and `kmf2` output by the call to `fit_plot()` above:"
   ]
  },
  {
   "cell_type": "code",
   "execution_count": 6,
   "metadata": {
    "scrolled": false
   },
   "outputs": [
    {
     "data": {
      "text/html": [
       "<div>\n",
       "<style scoped>\n",
       "    .dataframe tbody tr th:only-of-type {\n",
       "        vertical-align: middle;\n",
       "    }\n",
       "\n",
       "    .dataframe tbody tr th {\n",
       "        vertical-align: top;\n",
       "    }\n",
       "\n",
       "    .dataframe thead th {\n",
       "        text-align: right;\n",
       "    }\n",
       "</style>\n",
       "<table border=\"1\" class=\"dataframe\">\n",
       "  <thead>\n",
       "    <tr style=\"text-align: right;\">\n",
       "      <th></th>\n",
       "      <th>removed</th>\n",
       "      <th>observed</th>\n",
       "      <th>censored</th>\n",
       "      <th>entrance</th>\n",
       "      <th>at_risk</th>\n",
       "    </tr>\n",
       "    <tr>\n",
       "      <th>event_at</th>\n",
       "      <th></th>\n",
       "      <th></th>\n",
       "      <th></th>\n",
       "      <th></th>\n",
       "      <th></th>\n",
       "    </tr>\n",
       "  </thead>\n",
       "  <tbody>\n",
       "    <tr>\n",
       "      <th>0.0</th>\n",
       "      <td>0</td>\n",
       "      <td>0</td>\n",
       "      <td>0</td>\n",
       "      <td>11</td>\n",
       "      <td>11</td>\n",
       "    </tr>\n",
       "    <tr>\n",
       "      <th>9.0</th>\n",
       "      <td>1</td>\n",
       "      <td>1</td>\n",
       "      <td>0</td>\n",
       "      <td>0</td>\n",
       "      <td>11</td>\n",
       "    </tr>\n",
       "    <tr>\n",
       "      <th>13.0</th>\n",
       "      <td>2</td>\n",
       "      <td>1</td>\n",
       "      <td>1</td>\n",
       "      <td>0</td>\n",
       "      <td>10</td>\n",
       "    </tr>\n",
       "    <tr>\n",
       "      <th>18.0</th>\n",
       "      <td>1</td>\n",
       "      <td>1</td>\n",
       "      <td>0</td>\n",
       "      <td>0</td>\n",
       "      <td>8</td>\n",
       "    </tr>\n",
       "    <tr>\n",
       "      <th>23.0</th>\n",
       "      <td>1</td>\n",
       "      <td>1</td>\n",
       "      <td>0</td>\n",
       "      <td>0</td>\n",
       "      <td>7</td>\n",
       "    </tr>\n",
       "    <tr>\n",
       "      <th>28.0</th>\n",
       "      <td>1</td>\n",
       "      <td>0</td>\n",
       "      <td>1</td>\n",
       "      <td>0</td>\n",
       "      <td>6</td>\n",
       "    </tr>\n",
       "    <tr>\n",
       "      <th>31.0</th>\n",
       "      <td>1</td>\n",
       "      <td>1</td>\n",
       "      <td>0</td>\n",
       "      <td>0</td>\n",
       "      <td>5</td>\n",
       "    </tr>\n",
       "    <tr>\n",
       "      <th>34.0</th>\n",
       "      <td>1</td>\n",
       "      <td>1</td>\n",
       "      <td>0</td>\n",
       "      <td>0</td>\n",
       "      <td>4</td>\n",
       "    </tr>\n",
       "    <tr>\n",
       "      <th>45.0</th>\n",
       "      <td>1</td>\n",
       "      <td>0</td>\n",
       "      <td>1</td>\n",
       "      <td>0</td>\n",
       "      <td>3</td>\n",
       "    </tr>\n",
       "    <tr>\n",
       "      <th>48.0</th>\n",
       "      <td>1</td>\n",
       "      <td>1</td>\n",
       "      <td>0</td>\n",
       "      <td>0</td>\n",
       "      <td>2</td>\n",
       "    </tr>\n",
       "    <tr>\n",
       "      <th>161.0</th>\n",
       "      <td>1</td>\n",
       "      <td>0</td>\n",
       "      <td>1</td>\n",
       "      <td>0</td>\n",
       "      <td>1</td>\n",
       "    </tr>\n",
       "  </tbody>\n",
       "</table>\n",
       "</div>"
      ],
      "text/plain": [
       "          removed  observed  censored  entrance  at_risk\n",
       "event_at                                                \n",
       "0.0             0         0         0        11       11\n",
       "9.0             1         1         0         0       11\n",
       "13.0            2         1         1         0       10\n",
       "18.0            1         1         0         0        8\n",
       "23.0            1         1         0         0        7\n",
       "28.0            1         0         1         0        6\n",
       "31.0            1         1         0         0        5\n",
       "34.0            1         1         0         0        4\n",
       "45.0            1         0         1         0        3\n",
       "48.0            1         1         0         0        2\n",
       "161.0           1         0         1         0        1"
      ]
     },
     "metadata": {},
     "output_type": "display_data"
    },
    {
     "data": {
      "text/html": [
       "<div>\n",
       "<style scoped>\n",
       "    .dataframe tbody tr th:only-of-type {\n",
       "        vertical-align: middle;\n",
       "    }\n",
       "\n",
       "    .dataframe tbody tr th {\n",
       "        vertical-align: top;\n",
       "    }\n",
       "\n",
       "    .dataframe thead th {\n",
       "        text-align: right;\n",
       "    }\n",
       "</style>\n",
       "<table border=\"1\" class=\"dataframe\">\n",
       "  <thead>\n",
       "    <tr style=\"text-align: right;\">\n",
       "      <th></th>\n",
       "      <th>removed</th>\n",
       "      <th>observed</th>\n",
       "      <th>censored</th>\n",
       "      <th>entrance</th>\n",
       "      <th>at_risk</th>\n",
       "    </tr>\n",
       "    <tr>\n",
       "      <th>event_at</th>\n",
       "      <th></th>\n",
       "      <th></th>\n",
       "      <th></th>\n",
       "      <th></th>\n",
       "      <th></th>\n",
       "    </tr>\n",
       "  </thead>\n",
       "  <tbody>\n",
       "    <tr>\n",
       "      <th>0.0</th>\n",
       "      <td>0</td>\n",
       "      <td>0</td>\n",
       "      <td>0</td>\n",
       "      <td>12</td>\n",
       "      <td>12</td>\n",
       "    </tr>\n",
       "    <tr>\n",
       "      <th>5.0</th>\n",
       "      <td>2</td>\n",
       "      <td>2</td>\n",
       "      <td>0</td>\n",
       "      <td>0</td>\n",
       "      <td>12</td>\n",
       "    </tr>\n",
       "    <tr>\n",
       "      <th>8.0</th>\n",
       "      <td>2</td>\n",
       "      <td>2</td>\n",
       "      <td>0</td>\n",
       "      <td>0</td>\n",
       "      <td>10</td>\n",
       "    </tr>\n",
       "    <tr>\n",
       "      <th>12.0</th>\n",
       "      <td>1</td>\n",
       "      <td>1</td>\n",
       "      <td>0</td>\n",
       "      <td>0</td>\n",
       "      <td>8</td>\n",
       "    </tr>\n",
       "    <tr>\n",
       "      <th>16.0</th>\n",
       "      <td>1</td>\n",
       "      <td>0</td>\n",
       "      <td>1</td>\n",
       "      <td>0</td>\n",
       "      <td>7</td>\n",
       "    </tr>\n",
       "    <tr>\n",
       "      <th>23.0</th>\n",
       "      <td>1</td>\n",
       "      <td>1</td>\n",
       "      <td>0</td>\n",
       "      <td>0</td>\n",
       "      <td>6</td>\n",
       "    </tr>\n",
       "    <tr>\n",
       "      <th>27.0</th>\n",
       "      <td>1</td>\n",
       "      <td>1</td>\n",
       "      <td>0</td>\n",
       "      <td>0</td>\n",
       "      <td>5</td>\n",
       "    </tr>\n",
       "    <tr>\n",
       "      <th>30.0</th>\n",
       "      <td>1</td>\n",
       "      <td>1</td>\n",
       "      <td>0</td>\n",
       "      <td>0</td>\n",
       "      <td>4</td>\n",
       "    </tr>\n",
       "    <tr>\n",
       "      <th>33.0</th>\n",
       "      <td>1</td>\n",
       "      <td>1</td>\n",
       "      <td>0</td>\n",
       "      <td>0</td>\n",
       "      <td>3</td>\n",
       "    </tr>\n",
       "    <tr>\n",
       "      <th>43.0</th>\n",
       "      <td>1</td>\n",
       "      <td>1</td>\n",
       "      <td>0</td>\n",
       "      <td>0</td>\n",
       "      <td>2</td>\n",
       "    </tr>\n",
       "    <tr>\n",
       "      <th>45.0</th>\n",
       "      <td>1</td>\n",
       "      <td>1</td>\n",
       "      <td>0</td>\n",
       "      <td>0</td>\n",
       "      <td>1</td>\n",
       "    </tr>\n",
       "  </tbody>\n",
       "</table>\n",
       "</div>"
      ],
      "text/plain": [
       "          removed  observed  censored  entrance  at_risk\n",
       "event_at                                                \n",
       "0.0             0         0         0        12       12\n",
       "5.0             2         2         0         0       12\n",
       "8.0             2         2         0         0       10\n",
       "12.0            1         1         0         0        8\n",
       "16.0            1         0         1         0        7\n",
       "23.0            1         1         0         0        6\n",
       "27.0            1         1         0         0        5\n",
       "30.0            1         1         0         0        4\n",
       "33.0            1         1         0         0        3\n",
       "43.0            1         1         0         0        2\n",
       "45.0            1         1         0         0        1"
      ]
     },
     "metadata": {},
     "output_type": "display_data"
    }
   ],
   "source": [
    "display(kmf1.event_table, kmf2.event_table)"
   ]
  },
  {
   "cell_type": "markdown",
   "metadata": {},
   "source": [
    "Using `mpc.input()`, each party will secret-share its pair of survival tables with all the other parties. To allow for a simple union of the survival tables, however, we modify the representation of the survival tables as follows. \n",
    "\n",
    "First, we determine when the last event happens, which is at $t=161$ in the example. We compute $maxT$ securely as the maximum over all parties, using the following MPyC one-liner:"
   ]
  },
  {
   "cell_type": "code",
   "execution_count": 7,
   "metadata": {
    "scrolled": false
   },
   "outputs": [
    {
     "data": {
      "text/plain": [
       "161"
      ]
     },
     "execution_count": 7,
     "metadata": {},
     "output_type": "execute_result"
    }
   ],
   "source": [
    "secfxp = mpc.SecFxp(64)  # logrank tests will require fixed-point arithmetic\n",
    "maxT = int(await mpc.output(mpc.max(mpc.input(secfxp(int(df['time'].max()))))))\n",
    "timeline = range(1, maxT+1)\n",
    "max(timeline)"
   ]
  },
  {
   "cell_type": "markdown",
   "metadata": {},
   "source": [
    "All parties use $1..maxT$ as the global timeline. Subsequently, each party pads its own survival tables to cover the entire timeline. This is accomplished by two calls to the function `events_to_table()`, which only keeps the essential information:"
   ]
  },
  {
   "cell_type": "code",
   "execution_count": 8,
   "metadata": {
    "scrolled": false
   },
   "outputs": [
    {
     "data": {
      "text/html": [
       "<div>\n",
       "<style scoped>\n",
       "    .dataframe tbody tr th:only-of-type {\n",
       "        vertical-align: middle;\n",
       "    }\n",
       "\n",
       "    .dataframe tbody tr th {\n",
       "        vertical-align: top;\n",
       "    }\n",
       "\n",
       "    .dataframe thead th {\n",
       "        text-align: right;\n",
       "    }\n",
       "</style>\n",
       "<table border=\"1\" class=\"dataframe\">\n",
       "  <thead>\n",
       "    <tr style=\"text-align: right;\">\n",
       "      <th></th>\n",
       "      <th>d1</th>\n",
       "      <th>n1</th>\n",
       "      <th>d2</th>\n",
       "      <th>n2</th>\n",
       "    </tr>\n",
       "  </thead>\n",
       "  <tbody>\n",
       "    <tr>\n",
       "      <th>1</th>\n",
       "      <td>0</td>\n",
       "      <td>11</td>\n",
       "      <td>0</td>\n",
       "      <td>12</td>\n",
       "    </tr>\n",
       "    <tr>\n",
       "      <th>2</th>\n",
       "      <td>0</td>\n",
       "      <td>11</td>\n",
       "      <td>0</td>\n",
       "      <td>12</td>\n",
       "    </tr>\n",
       "    <tr>\n",
       "      <th>3</th>\n",
       "      <td>0</td>\n",
       "      <td>11</td>\n",
       "      <td>0</td>\n",
       "      <td>12</td>\n",
       "    </tr>\n",
       "    <tr>\n",
       "      <th>4</th>\n",
       "      <td>0</td>\n",
       "      <td>11</td>\n",
       "      <td>0</td>\n",
       "      <td>12</td>\n",
       "    </tr>\n",
       "    <tr>\n",
       "      <th>5</th>\n",
       "      <td>0</td>\n",
       "      <td>11</td>\n",
       "      <td>2</td>\n",
       "      <td>12</td>\n",
       "    </tr>\n",
       "    <tr>\n",
       "      <th>6</th>\n",
       "      <td>0</td>\n",
       "      <td>11</td>\n",
       "      <td>0</td>\n",
       "      <td>10</td>\n",
       "    </tr>\n",
       "    <tr>\n",
       "      <th>7</th>\n",
       "      <td>0</td>\n",
       "      <td>11</td>\n",
       "      <td>0</td>\n",
       "      <td>10</td>\n",
       "    </tr>\n",
       "    <tr>\n",
       "      <th>8</th>\n",
       "      <td>0</td>\n",
       "      <td>11</td>\n",
       "      <td>2</td>\n",
       "      <td>10</td>\n",
       "    </tr>\n",
       "    <tr>\n",
       "      <th>9</th>\n",
       "      <td>1</td>\n",
       "      <td>11</td>\n",
       "      <td>0</td>\n",
       "      <td>8</td>\n",
       "    </tr>\n",
       "    <tr>\n",
       "      <th>10</th>\n",
       "      <td>0</td>\n",
       "      <td>10</td>\n",
       "      <td>0</td>\n",
       "      <td>8</td>\n",
       "    </tr>\n",
       "  </tbody>\n",
       "</table>\n",
       "</div>"
      ],
      "text/plain": [
       "    d1  n1  d2  n2\n",
       "1    0  11   0  12\n",
       "2    0  11   0  12\n",
       "3    0  11   0  12\n",
       "4    0  11   0  12\n",
       "5    0  11   2  12\n",
       "6    0  11   0  10\n",
       "7    0  11   0  10\n",
       "8    0  11   2  10\n",
       "9    1  11   0   8\n",
       "10   0  10   0   8"
      ]
     },
     "execution_count": 8,
     "metadata": {},
     "output_type": "execute_result"
    }
   ],
   "source": [
    "d1, n1 = events_to_table(maxT, T1, E1)\n",
    "d2, n2 = events_to_table(maxT, T2, E2)\n",
    "pd.DataFrame({'d1': d1, 'n1': n1, 'd2': d2, 'n2': n2}, index=timeline).head(10)"
   ]
  },
  {
   "cell_type": "markdown",
   "metadata": {},
   "source": [
    "Column `d1` records the number of observed events (\"deaths\") for group 1 on the entire timeline, and column `n1` records the number of patients \"at risk\". Similarly, for group 2. \n",
    "\n",
    "To obtain the secure union of the privately held datasets, we let all parties secret-share their survival tables and simply add all of these elementwise:"
   ]
  },
  {
   "cell_type": "code",
   "execution_count": 9,
   "metadata": {
    "scrolled": false
   },
   "outputs": [],
   "source": [
    "d1, n1, d2, n2 = (functools.reduce(mpc.vector_add, mpc.input(list(map(secfxp, _)))) for _ in (d1, n1, d2, n2))"
   ]
  },
  {
   "cell_type": "markdown",
   "metadata": {},
   "source": [
    "The joint dataset (union) is now represented by `d1, n1, d2, n2`. Note that these values are all secret-shared, for example:"
   ]
  },
  {
   "cell_type": "code",
   "execution_count": 10,
   "metadata": {
    "scrolled": false
   },
   "outputs": [
    {
     "data": {
      "text/plain": [
       "<mpyc.sectypes.SecFxp64:32 at 0x16a228d4700>"
      ]
     },
     "execution_count": 10,
     "metadata": {},
     "output_type": "execute_result"
    }
   ],
   "source": [
    "d1[0]"
   ]
  },
  {
   "cell_type": "markdown",
   "metadata": {},
   "source": [
    "### Aggregate Kaplan-Meier Curves\n",
    "\n",
    "We now proceed to analyze the joint dataset in a privacy-preserving way by plotting *aggregated* versions of the Kaplan-Meier curves. The exact Kaplan-Meier curves would reveal too much information about the patients in the study. By aggregating the events over longer time intervals, the amount of information revealed by the curves is reduced. At the same time, however, the aggregated curves may still be helpful to see the overall results for the study---and in any case to serve as a sanity check.\n",
    "\n",
    "The function `aggregate()` securely adds all the observed (\"death\") events over intervals of a given length (stride). The aggregated values are all output publicly, and used to plot the curves via the function `events_from_table()`:"
   ]
  },
  {
   "cell_type": "code",
   "execution_count": 11,
   "metadata": {
    "scrolled": false
   },
   "outputs": [
    {
     "data": {
      "image/png": "[encoded data removed]",
      "text/plain": [
       "<Figure size 640x480 with 2 Axes>"
      ]
     },
     "metadata": {},
     "output_type": "display_data"
    }
   ],
   "source": [
    "stride = 16\n",
    "agg_d1, agg_n1 = aggregate(d1, n1, stride)\n",
    "agg_d2, agg_n2 = aggregate(d2, n2, stride)\n",
    "agg_d1, agg_n1, agg_d2, agg_n2 = [list(map(int, await mpc.output(_))) for _ in (agg_d1, agg_n1, agg_d2, agg_n2)]\n",
    "T1_, E1_ = events_from_table(agg_d1, agg_n1)\n",
    "T2_, E2_ = events_from_table(agg_d2, agg_n2)\n",
    "T1_, T2_ = [t * stride for t in T1_], [t * stride for t in T2_]\n",
    "fit_plot(T1_, T2_, E1_, E2_, 'Aggregated Kaplan-Meier survival curves', 'weeks', '1=Maintained', '2=Not maintained')\n",
    "plt.show()"
   ]
  },
  {
   "cell_type": "markdown",
   "metadata": {},
   "source": [
    "Picking `stride = 16` achieves a reasonable balance between privacy and utility. To enhance both privacy and utility at the same time, one may look for differentially private randomization techniques, adding a suitable type of noise to the Kaplan-Meier curves. "
   ]
  },
  {
   "cell_type": "markdown",
   "metadata": {},
   "source": [
    "### Secure Logrank Tests\n",
    "\n",
    "The function `logrank_test()` performs a secure logrank test on a secret-shared dataset, similar to function `lifelines.statistics.logrank_test()` used above for a dataset in the clear. The input parameter `secfxp` specifies the secure type to be used for fixed-point arithmetic, and the output is an instance of `lifelines.statistics.StatisticalResult`:"
   ]
  },
  {
   "cell_type": "code",
   "execution_count": 12,
   "metadata": {
    "scrolled": false
   },
   "outputs": [
    {
     "name": "stdout",
     "output_type": "stream",
     "text": [
      "0.06533926511489802\n"
     ]
    }
   ],
   "source": [
    "print((await logrank_test(secfxp, d1, d2, n1, n2)).p_value)"
   ]
  },
  {
   "cell_type": "markdown",
   "metadata": {},
   "source": [
    "Relying solely on p-values is in general not a good idea, and this is especially true when handling otherwise (mostly) hidden data. Together with the aggregated curves, however, the p-value may lead to a useful conclusion for a study. \n",
    "\n",
    "The function `logrank_test()` uses one secure fixed-point division per time moment in $1..maxT$. Even though these divisions can all be done in parallel, the total effort is significant when $maxT$ is large. However, \"most of the time\" there is actually no event happening and no divisions need to be performed for these time moments. E.g., in the survival tables for the aml dataset above, there are only 7 time moments with nonzero `d1` entries on the entire timeline $1..161$, and only 9 time moments with nonzero `d2` entries.\n",
    "\n",
    "Therefore, it may be advantageous to first extract the nonzero rows of the survival tables, and then limit the computation of the logrank test to those rows. The extraction needs to be done obliviously, not leaking any information about (the location of) the nonzero entries of the survival tables. To prevent this oblivious extraction step from becoming a bottleneck, however, we will actually exploit the fact that the aggregate curves are revealed anyway. We may simply use `agg_d1` and `agg_d2` to bound the number of events per stride, and extract the nonzero rows obliviously and efficiently for each stride. \n",
    "This is basically what the function `agg_logrank_test()` does:"
   ]
  },
  {
   "cell_type": "code",
   "execution_count": 13,
   "metadata": {
    "scrolled": false
   },
   "outputs": [
    {
     "name": "stdout",
     "output_type": "stream",
     "text": [
      "0.06533934447922828\n"
     ]
    }
   ],
   "source": [
    "print((await agg_logrank_test(secfxp, d1, d2, n1, n2, agg_d1, agg_d2, stride)).p_value)"
   ]
  },
  {
   "cell_type": "markdown",
   "metadata": {},
   "source": [
    "Even for a small dataset like aml, the speedup is already noticeable. For larger datasets, the speedup gets really substantial, as can be noticed for some of the other datasets included with the [kmsurival.py](kmsurvival.py) demo. "
   ]
  },
  {
   "cell_type": "markdown",
   "metadata": {},
   "source": [
    "## Summary\n",
    "We end with two complete runs of the demo on the aml dataset, showing the Chi2 test statistic and p-value for each logrank test. \n",
    "\n",
    "The help message included with the demo shows the command line options:"
   ]
  },
  {
   "cell_type": "code",
   "execution_count": 14,
   "metadata": {
    "scrolled": true
   },
   "outputs": [
    {
     "name": "stdout",
     "output_type": "stream",
     "text": [
      "Showing help message for kmsurvival.py, if available:\n",
      "\n",
      "usage: kmsurvival.py [-h] [-i I] [-s S] [-a A] [--collapse] [--print-tables]\n",
      "                     [--plot-curves]\n",
      "\n",
      "optional arguments:\n",
      "  -h, --help          show this help message and exit\n",
      "  -i I, --dataset I   dataset 0=btrial(default) 1=waltons 2=aml 3=lung 4=dd\n",
      "                      5=stanford_heart_transplants 6=kidney_transplant\n",
      "  -s S, --stride S    interval length for aggregated events\n",
      "  -a A, --accuracy A  number of fractional bits\n",
      "  --collapse          days->weeks->month->years\n",
      "  --print-tables      print survival tables\n",
      "  --plot-curves       plot survival curves\n"
     ]
    }
   ],
   "source": [
    "!python kmsurvival.py -h"
   ]
  },
  {
   "cell_type": "markdown",
   "metadata": {},
   "source": [
    "### Complete Run:  5 logrank tests + survival curves\n",
    "To show the plots of the survival curves the `main()` function of the demo is called directly from a notebook cell:"
   ]
  },
  {
   "cell_type": "code",
   "execution_count": 15,
   "metadata": {
    "scrolled": false
   },
   "outputs": [
    {
     "name": "stdout",
     "output_type": "stream",
     "text": [
      "Using secure fixed-point numbers: SecFxp64:32\n",
      "Dataset: aml, with 1-party split, time 1 to 161 (stride 16) weeks\n",
      "Chi2=3.396389, p=0.065339 for all events in the clear\n",
      "Chi2=3.396389, p=0.065339 for own events in the clear\n",
      "Chi2=2.685357, p=0.101275 for aggregated events in the clear\n"
     ]
    },
    {
     "data": {
      "image/png": "[encoded data removed]",
      "text/plain": [
       "<Figure size 640x480 with 2 Axes>"
      ]
     },
     "metadata": {},
     "output_type": "display_data"
    },
    {
     "data": {
      "image/png": "[encoded data removed]",
      "text/plain": [
       "<Figure size 640x480 with 2 Axes>"
      ]
     },
     "metadata": {},
     "output_type": "display_data"
    },
    {
     "name": "stdout",
     "output_type": "stream",
     "text": [
      "Chi2=3.396389, p=0.065339 for all events secure, exploiting aggregates\n",
      "Chi2=3.396384, p=0.065339 for all 161 time moments secure\n"
     ]
    }
   ],
   "source": [
    "import sys\n",
    "from kmsurvival import main\n",
    "sys.argv[1:] = ['-i2', '--plot-curves']\n",
    "await main()"
   ]
  },
  {
   "cell_type": "markdown",
   "metadata": {},
   "source": [
    "### Complete Run: 5 logrank tests + survival tables\n",
    "To run the demo with three parties on localhost, for instance, we add `-M3` as command line option and run [kmsurival.py](kmsurvival.py) outside this notebook using a shell command. The plots are not shown this way, so instead we print the survival tables:"
   ]
  },
  {
   "cell_type": "code",
   "execution_count": 16,
   "metadata": {
    "scrolled": false
   },
   "outputs": [
    {
     "name": "stdout",
     "output_type": "stream",
     "text": [
      "Using secure fixed-point numbers: SecFxp64:32\n",
      "Dataset: aml, with 3-party split, time 1 to 41 (stride 4) months\n",
      "2023-02-25 15:42:23,947 Logrank test on all events in the clear.\n",
      "Chi2=2.675902, p=0.101878 for all events in the clear\n",
      "2023-02-25 15:42:23,994 Start MPyC runtime v0.9\n",
      "2023-02-25 15:42:26,052 All 3 parties connected.\n",
      "2023-02-25 15:42:26,255 Logrank test on own events in the clear.\n",
      "Chi2=0.510517, p=0.474915 for own events in the clear\n",
      "          removed  observed  censored  entrance  at_risk\n",
      "event_at                                                \n",
      "0.0             0         0         0         4        4\n",
      "3.0             1         1         0         0        4\n",
      "5.0             1         1         0         0        3\n",
      "8.0             1         1         0         0        2\n",
      "12.0            1         1         0         0        1\n",
      "          removed  observed  censored  entrance  at_risk\n",
      "event_at                                                \n",
      "0.0             0         0         0         4        4\n",
      "2.0             1         1         0         0        4\n",
      "3.0             1         1         0         0        3\n",
      "7.0             1         1         0         0        2\n",
      "11.0            1         1         0         0        1\n",
      "2023-02-25 15:42:26,958 Logrank test on aggregated events in the clear.\n",
      "Chi2=2.685357, p=0.101275 for aggregated events in the clear\n",
      "          removed  observed  censored  entrance  at_risk\n",
      "event_at                                                \n",
      "0.0             0         0         0        11       11\n",
      "4.0             3         2         1         0       11\n",
      "8.0             4         3         1         0        8\n",
      "12.0            3         2         1         0        4\n",
      "44.0            1         0         1         0        1\n",
      "          removed  observed  censored  entrance  at_risk\n",
      "event_at                                                \n",
      "0.0             0         0         0        12       12\n",
      "4.0             6         5         1         0       12\n",
      "8.0             3         3         0         0        6\n",
      "12.0            3         3         0         0        3\n",
      "2023-02-25 15:42:27,193 Optimized secure logrank test on all individual events.\n",
      "2023-02-25 15:42:27,193 Interval 1 (time 1 to 4) # observed events = 7\n",
      "2023-02-25 15:42:27,193 Interval 2 (time 5 to 8) # observed events = 6\n",
      "2023-02-25 15:42:27,208 Interval 3 (time 9 to 12) # observed events = 5\n",
      "2023-02-25 15:42:27,208 Interval 4 (time 13 to 16) # observed events = 0\n",
      "2023-02-25 15:42:27,208 Interval 5 (time 17 to 20) # observed events = 0\n",
      "2023-02-25 15:42:27,208 Interval 6 (time 21 to 24) # observed events = 0\n",
      "2023-02-25 15:42:27,208 Interval 7 (time 25 to 28) # observed events = 0\n",
      "2023-02-25 15:42:27,208 Interval 8 (time 29 to 32) # observed events = 0\n",
      "2023-02-25 15:42:27,208 Interval 9 (time 33 to 36) # observed events = 0\n",
      "2023-02-25 15:42:27,208 Interval 10 (time 37 to 40) # observed events = 0\n",
      "2023-02-25 15:42:27,208 Interval 11 (time 41 to 41) # observed events = 0\n",
      "Chi2=2.675904, p=0.101877 for all events secure, exploiting aggregates\n",
      "2023-02-25 15:42:28,385 Secure logrank test for all 41 time moments.\n",
      "Chi2=2.675903, p=0.101878 for all 41 time moments secure\n",
      "2023-02-25 15:42:31,709 Stop MPyC -- elapsed time: 0:00:05.657|bytes sent: 1500642\n"
     ]
    }
   ],
   "source": [
    "!python kmsurvival.py -M3 -i2 --print-tables --collapse"
   ]
  },
  {
   "cell_type": "markdown",
   "metadata": {},
   "source": [
    "To try out other runs of the demo for yourself, remember to consult MPyC's help message, using the `-H` option:"
   ]
  },
  {
   "cell_type": "code",
   "execution_count": 17,
   "metadata": {},
   "outputs": [
    {
     "name": "stdout",
     "output_type": "stream",
     "text": [
      "usage: kmsurvival.py [-V] [-H] [-h] [-C ini] [-P addr] [-M m] [-I i] [-T t]\n",
      "                     [-B b] [--ssl] [-W w] [-L l] [-K k] [--log-level ll]\n",
      "                     [--no-log] [--no-async] [--no-barrier] [--no-gmpy2]\n",
      "                     [--no-numpy] [--no-prss] [--mix32-64bit]\n",
      "                     [--output-windows] [--output-file] [-f F]\n",
      "\n",
      "MPyC help:\n",
      "  -V, --VERSION         print MPyC version number and exit\n",
      "  -H, --HELP            print this help message for MPyC and exit\n",
      "  -h, --help            print help message for this MPyC program (if any)\n",
      "\n",
      "MPyC configuration:\n",
      "  -C ini, --config ini  use ini file, defining all m parties\n",
      "  -P addr               use addr=host:port per party (repeat m times)\n",
      "  -M m                  use m local parties (and run all m, if i is not set)\n",
      "  -I i, --index i       set index of this local party to i, 0<=i<m\n",
      "  -T t, --threshold t   threshold t, 0<=t<m/2\n",
      "  -B b, --base-port b   use port number b+i for party i\n",
      "  --ssl                 enable SSL connections\n",
      "  -W w, --workers w     maximum number of worker threads per party\n",
      "\n",
      "MPyC parameters:\n",
      "  -L l, --bit-length l  default bit length l for secure numbers\n",
      "  -K k, --sec-param k   security parameter k, leakage probability 2**-k\n",
      "  --log-level ll        logging level ll=debug/info(default)/warning/error\n",
      "  --no-log              disable logging messages\n",
      "  --no-async            disable asynchronous evaluation\n",
      "  --no-barrier          disable barriers\n",
      "  --no-gmpy2            disable use of gmpy2 package\n",
      "  --no-numpy            disable use of numpy package\n",
      "  --no-prss             disable use of PRSS (pseudorandom secret sharing)\n",
      "  --mix32-64bit         enable mix of 32-bit and 64-bit platforms\n",
      "\n",
      "MPyC misc:\n",
      "  --output-windows      screen output for parties 0<i<m (one window each)\n",
      "  --output-file         append output of parties 0<i<m to party{m}_{i}.log\n",
      "  -f F                  consume IPython's -f argument F\n"
     ]
    }
   ],
   "source": [
    "!python kmsurvival.py -H"
   ]
  }
 ],
 "metadata": {
  "kernelspec": {
   "display_name": "Python 3 (ipykernel)",
   "language": "python",
   "name": "python3"
  },
  "language_info": {
   "codemirror_mode": {
    "name": "ipython",
    "version": 3
   },
   "file_extension": ".py",
   "mimetype": "text/x-python",
   "name": "python",
   "nbconvert_exporter": "python",
   "pygments_lexer": "ipython3",
   "version": "3.8.10"
  }
 },
 "nbformat": 4,
 "nbformat_minor": 2
}
